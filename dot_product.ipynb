{
 "cells": [
  {
   "cell_type": "code",
   "execution_count": null,
   "id": "f5f5ac0b",
   "metadata": {},
   "outputs": [],
   "source": [
    "import numpy as np"
   ]
  },
  {
   "cell_type": "markdown",
   "id": "44c781d7",
   "metadata": {},
   "source": [
    "### Simple vector"
   ]
  },
  {
   "cell_type": "code",
   "execution_count": 2,
   "id": "1a516311",
   "metadata": {},
   "outputs": [
    {
     "name": "stdout",
     "output_type": "stream",
     "text": [
      "10\n"
     ]
    }
   ],
   "source": [
    "x = [2, 1]\n",
    "w = [4, 2]\n",
    "\n",
    "dot_product = x[0] * w[0] + x[1] * w[1]\n",
    "\n",
    "print(dot_product)"
   ]
  },
  {
   "cell_type": "code",
   "execution_count": 4,
   "id": "1699a555",
   "metadata": {},
   "outputs": [
    {
     "data": {
      "text/plain": [
       "10"
      ]
     },
     "execution_count": 4,
     "metadata": {},
     "output_type": "execute_result"
    }
   ],
   "source": [
    "# use numpy \n",
    "np.dot(x, w)"
   ]
  },
  {
   "cell_type": "markdown",
   "id": "11f08a76",
   "metadata": {},
   "source": [
    "### Matrix"
   ]
  },
  {
   "cell_type": "code",
   "execution_count": 19,
   "id": "6741765f",
   "metadata": {},
   "outputs": [
    {
     "name": "stdout",
     "output_type": "stream",
     "text": [
      "Rows,Cols: 2 3\n",
      "Transposed A_T: [[1, 4], [2, 5], [3, 6]]\n"
     ]
    }
   ],
   "source": [
    "# matrix\n",
    "A = [\n",
    "    [1, 2, 3],\n",
    "    [4, 5, 6]\n",
    "]\n",
    "m, n = len(A), len(A[0])\n",
    "print(\"Rows,Cols:\", m, n)\n",
    "\n",
    "A_T = [[A[j][i] for j in range(m)] for i in range(n)]\n",
    "print(\"Transposed A_T:\", A_T)\n"
   ]
  },
  {
   "cell_type": "code",
   "execution_count": null,
   "id": "6b7383fa",
   "metadata": {},
   "outputs": [
    {
     "name": "stdout",
     "output_type": "stream",
     "text": [
      "[[1 4]\n",
      " [2 5]\n",
      " [3 6]]\n"
     ]
    }
   ],
   "source": [
    "# Use numpy\n",
    "\n",
    "A = np.array([\n",
    "    [1, 2, 3],\n",
    "    [4, 5, 6]\n",
    "])\n",
    "\n",
    "A_T = A.T\n",
    "print(A_T)"
   ]
  },
  {
   "cell_type": "code",
   "execution_count": 9,
   "id": "a407c183",
   "metadata": {},
   "outputs": [],
   "source": [
    "input_list = [3, -1, 2, 0, -5, 7]\n",
    "\n",
    "def solve(arr):\n",
    "    positive = [x for x in arr if x > 0]\n",
    "    positive.sort(reverse=True)\n",
    "    return positive"
   ]
  },
  {
   "cell_type": "code",
   "execution_count": 10,
   "id": "6e8e7342",
   "metadata": {},
   "outputs": [
    {
     "name": "stdout",
     "output_type": "stream",
     "text": [
      "[7, 3, 2]\n"
     ]
    }
   ],
   "source": [
    "print(solve(input_list))"
   ]
  },
  {
   "cell_type": "code",
   "execution_count": null,
   "id": "7496decc",
   "metadata": {},
   "outputs": [],
   "source": []
  },
  {
   "cell_type": "code",
   "execution_count": null,
   "id": "d7e1e1af",
   "metadata": {},
   "outputs": [],
   "source": []
  }
 ],
 "metadata": {
  "kernelspec": {
   "display_name": "base",
   "language": "python",
   "name": "python3"
  },
  "language_info": {
   "codemirror_mode": {
    "name": "ipython",
    "version": 3
   },
   "file_extension": ".py",
   "mimetype": "text/x-python",
   "name": "python",
   "nbconvert_exporter": "python",
   "pygments_lexer": "ipython3",
   "version": "3.12.4"
  }
 },
 "nbformat": 4,
 "nbformat_minor": 5
}
