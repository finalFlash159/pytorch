{
 "cells": [
  {
   "cell_type": "code",
   "execution_count": 61,
   "id": "a82827f2",
   "metadata": {},
   "outputs": [
    {
     "data": {
      "text/plain": [
       "'/Users/vominhthinh/Workspace/pytorch/image_classification'"
      ]
     },
     "execution_count": 61,
     "metadata": {},
     "output_type": "execute_result"
    }
   ],
   "source": [
    "# package\n",
    "import torch\n",
    "import torchvision\n",
    "import torchvision.transforms as transforms\n",
    "import torch.nn as nn\n",
    "import torch.nn.functional as F\n",
    "from torch.utils.data import DataLoader\n",
    "import os\n",
    "import matplotlib.pyplot as plt\n",
    "import numpy as np\n",
    "from sklearn.metrics import accuracy_score\n",
    "os.getcwd() # get current working directory"
   ]
  },
  {
   "cell_type": "code",
   "execution_count": 62,
   "id": "1b82617f",
   "metadata": {},
   "outputs": [],
   "source": [
    "# define transforms\n",
    "transform = transforms.Compose([\n",
    "    transforms.Resize((32, 32)),\n",
    "    transforms.Grayscale(),\n",
    "    transforms.ToTensor(),\n",
    "    transforms.Normalize((0.5), (0.5)),\n",
    "])"
   ]
  },
  {
   "cell_type": "code",
   "execution_count": 63,
   "id": "dbd58060",
   "metadata": {},
   "outputs": [],
   "source": [
    "batch_size = 4\n",
    "trainset = torchvision.datasets.ImageFolder(root='data/train', transform=transform)\n",
    "testset = torchvision.datasets.ImageFolder(root='data/test', transform=transform)"
   ]
  },
  {
   "cell_type": "code",
   "execution_count": 64,
   "id": "a39e4a53",
   "metadata": {},
   "outputs": [],
   "source": [
    "train_loader = DataLoader(trainset, batch_size=batch_size, shuffle=True)\n",
    "test_loader = DataLoader(testset, batch_size=batch_size)"
   ]
  },
  {
   "cell_type": "code",
   "execution_count": 65,
   "id": "76935dc6",
   "metadata": {},
   "outputs": [],
   "source": [
    "def imshow(img):\n",
    "    img = img / 2 + 0.5 # unormalize\n",
    "    nping = img.numpy()\n",
    "    plt.imshow(np.transpose(nping, (1, 2, 0)))\n",
    "    plt.show()\n"
   ]
  },
  {
   "cell_type": "code",
   "execution_count": 66,
   "id": "1423c7ca",
   "metadata": {},
   "outputs": [
    {
     "data": {
      "image/png": "[encoded data removed]",
      "text/plain": [
       "<Figure size 640x480 with 1 Axes>"
      ]
     },
     "metadata": {},
     "output_type": "display_data"
    }
   ],
   "source": [
    "# get random trainning images\n",
    "dataiter = iter(train_loader)\n",
    "images, labels = next(dataiter)\n",
    "imshow(torchvision.utils.make_grid(images, nrow=2))"
   ]
  },
  {
   "cell_type": "code",
   "execution_count": 67,
   "id": "dfa7558d",
   "metadata": {},
   "outputs": [
    {
     "data": {
      "text/plain": [
       "torch.Size([1, 32, 32])"
      ]
     },
     "execution_count": 67,
     "metadata": {},
     "output_type": "execute_result"
    }
   ],
   "source": [
    "images[0].shape"
   ]
  },
  {
   "cell_type": "markdown",
   "id": "76592771",
   "metadata": {},
   "source": [
    "### Neral Network"
   ]
  },
  {
   "cell_type": "code",
   "execution_count": 68,
   "id": "8c6c5b52",
   "metadata": {},
   "outputs": [],
   "source": [
    "# Setup Neral NetWork\n",
    "class ImageClassification(nn.Module):\n",
    "    def __init__(self) -> None:\n",
    "        super().__init__()\n",
    "        self.conv1 = nn.Conv2d(1, 6, 3) # 1 input color chanel (grayscale), 6 output chanels mean create\\\n",
    "        # 6 kernel to learn different feature from image, kernel size (3) = (3x3)\n",
    "        # out: batch_size, 6, 30, 30\n",
    "        self.pool = nn.MaxPool2d(2, 2) # out: batch_size, 6, 15, 15\n",
    "        self.conv2 = nn.Conv2d(6, 16, 3) # out: batch_size, 16, 13, 13\n",
    "        self.fc1 = nn.Linear(16*6*6, 128) # after next pool: batch_size, 16, 6, 6. | 128 nerals\n",
    "        self.fc2 = nn.Linear(128, 64)\n",
    "        self.fc3 = nn.Linear(64, 1)\n",
    "        self.sigmoid = nn.Sigmoid()\n",
    "        self.relu = nn.ReLU()\n",
    "\n",
    "\n",
    "    def forward(self, x):\n",
    "        x = self.conv1(x)\n",
    "        x = F.relu(x)\n",
    "        x = self.pool(x)\n",
    "        x = self.conv2(x)\n",
    "        x = F.relu(x)\n",
    "        x = self.pool(x)\n",
    "        x = torch.flatten(x, 1)\n",
    "        x = self.fc1(x)\n",
    "        x = self.relu(x)\n",
    "        x = self.fc2(x)\n",
    "        x = self.relu(x)\n",
    "        x = self.fc3(x)\n",
    "        x = self.sigmoid(x)\n",
    "        return x"
   ]
  },
  {
   "cell_type": "code",
   "execution_count": 69,
   "id": "cc24bd5a",
   "metadata": {},
   "outputs": [],
   "source": [
    "model = ImageClassification()"
   ]
  },
  {
   "cell_type": "code",
   "execution_count": 70,
   "id": "71d6aefb",
   "metadata": {},
   "outputs": [],
   "source": [
    "loss_fn = nn.BCELoss()\n",
    "optimizer = torch.optim.SGD(model.parameters(), lr=0.01, momentum=0.8)"
   ]
  },
  {
   "cell_type": "code",
   "execution_count": 71,
   "id": "889b3337",
   "metadata": {},
   "outputs": [
    {
     "name": "stdout",
     "output_type": "stream",
     "text": [
      "Epoch 0/10, Step 1/250 Loss: 0.7074\n",
      "Epoch 0/10, Step 101/250 Loss: 0.6827\n",
      "Epoch 0/10, Step 201/250 Loss: 0.0806\n",
      "Epoch 1/10, Step 1/250 Loss: 0.0450\n",
      "Epoch 1/10, Step 101/250 Loss: 0.0683\n",
      "Epoch 1/10, Step 201/250 Loss: 0.4384\n",
      "Epoch 2/10, Step 1/250 Loss: 0.0287\n",
      "Epoch 2/10, Step 101/250 Loss: 0.0500\n",
      "Epoch 2/10, Step 201/250 Loss: 0.0326\n",
      "Epoch 3/10, Step 1/250 Loss: 0.0840\n",
      "Epoch 3/10, Step 101/250 Loss: 0.0095\n",
      "Epoch 3/10, Step 201/250 Loss: 0.0876\n",
      "Epoch 4/10, Step 1/250 Loss: 0.0095\n",
      "Epoch 4/10, Step 101/250 Loss: 0.0048\n",
      "Epoch 4/10, Step 201/250 Loss: 0.0192\n",
      "Epoch 5/10, Step 1/250 Loss: 0.0932\n",
      "Epoch 5/10, Step 101/250 Loss: 0.0035\n",
      "Epoch 5/10, Step 201/250 Loss: 0.0088\n",
      "Epoch 6/10, Step 1/250 Loss: 0.0027\n",
      "Epoch 6/10, Step 101/250 Loss: 0.0887\n",
      "Epoch 6/10, Step 201/250 Loss: 0.0206\n",
      "Epoch 7/10, Step 1/250 Loss: 0.0082\n",
      "Epoch 7/10, Step 101/250 Loss: 0.0004\n",
      "Epoch 7/10, Step 201/250 Loss: 0.0029\n",
      "Epoch 8/10, Step 1/250 Loss: 0.1292\n",
      "Epoch 8/10, Step 101/250 Loss: 0.0010\n",
      "Epoch 8/10, Step 201/250 Loss: 0.0040\n",
      "Epoch 9/10, Step 1/250 Loss: 0.0094\n",
      "Epoch 9/10, Step 101/250 Loss: 0.0836\n",
      "Epoch 9/10, Step 201/250 Loss: 0.0000\n"
     ]
    }
   ],
   "source": [
    "NUM_EPOCHS = 10\n",
    "for epoch in range(NUM_EPOCHS):\n",
    "    for i, data in enumerate(train_loader, 0):\n",
    "        inputs, labels = data\n",
    "\n",
    "        # zero gradient\n",
    "        optimizer.zero_grad()\n",
    "\n",
    "        # forward pass\n",
    "        pred = model(inputs)\n",
    "\n",
    "        # calculate loss\n",
    "        loss = loss_fn(pred, labels.reshape(-1, 1).float())\n",
    "\n",
    "        # backward\n",
    "        loss.backward()\n",
    "\n",
    "        # update weights\n",
    "        optimizer.step()\n",
    "\n",
    "        if i % 100 == 0:\n",
    "            print(f'Epoch {epoch}/{NUM_EPOCHS}, Step {i+1}/{len(train_loader)}', f'Loss: {loss.item():.4f}')\n"
   ]
  },
  {
   "cell_type": "code",
   "execution_count": 76,
   "id": "2f7a5fee",
   "metadata": {},
   "outputs": [],
   "source": [
    "y_test = []\n",
    "y_test_pred = []\n",
    "for i , data in enumerate(test_loader, 0):\n",
    "    inputs, y_test_temp = data\n",
    "    with torch.no_grad():\n",
    "        y_test_hat_temp = model(inputs).round()\n",
    "\n",
    "    \n",
    "    y_test.extend(y_test_temp.numpy())\n",
    "    y_test_pred.extend(y_test_hat_temp.numpy())\n"
   ]
  },
  {
   "cell_type": "code",
   "execution_count": 77,
   "id": "cf653a53",
   "metadata": {},
   "outputs": [
    {
     "name": "stdout",
     "output_type": "stream",
     "text": [
      "Accuracy: 97.333 %\n"
     ]
    }
   ],
   "source": [
    "accuracy = accuracy_score(y_test, y_test_pred)\n",
    "print(f'Accuracy: {accuracy*100:.3f} %')\n"
   ]
  },
  {
   "cell_type": "code",
   "execution_count": 72,
   "id": "1ba4cf31",
   "metadata": {},
   "outputs": [
    {
     "data": {
      "text/plain": [
       "torch.Size([4])"
      ]
     },
     "execution_count": 72,
     "metadata": {},
     "output_type": "execute_result"
    }
   ],
   "source": [
    "labels.shape"
   ]
  },
  {
   "cell_type": "code",
   "execution_count": 73,
   "id": "6fe3007f",
   "metadata": {},
   "outputs": [
    {
     "data": {
      "text/plain": [
       "torch.Size([4, 1])"
      ]
     },
     "execution_count": 73,
     "metadata": {},
     "output_type": "execute_result"
    }
   ],
   "source": [
    "pred.shape"
   ]
  },
  {
   "cell_type": "code",
   "execution_count": 74,
   "id": "1d6e4cb1",
   "metadata": {},
   "outputs": [
    {
     "data": {
      "text/plain": [
       "torch.Size([4, 1])"
      ]
     },
     "execution_count": 74,
     "metadata": {},
     "output_type": "execute_result"
    }
   ],
   "source": [
    "sample = labels.reshape(-1, 1)\n",
    "sample.shape"
   ]
  }
 ],
 "metadata": {
  "kernelspec": {
   "display_name": "base",
   "language": "python",
   "name": "python3"
  },
  "language_info": {
   "codemirror_mode": {
    "name": "ipython",
    "version": 3
   },
   "file_extension": ".py",
   "mimetype": "text/x-python",
   "name": "python",
   "nbconvert_exporter": "python",
   "pygments_lexer": "ipython3",
   "version": "3.12.4"
  }
 },
 "nbformat": 4,
 "nbformat_minor": 5
}
