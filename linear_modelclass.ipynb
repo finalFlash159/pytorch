{
 "cells": [
  {
   "cell_type": "code",
   "execution_count": 319,
   "id": "bb791f17",
   "metadata": {},
   "outputs": [],
   "source": [
    "# package\n",
    "import numpy as np\n",
    "import pandas as pd\n",
    "import torch\n",
    "import torch.nn as nn \n",
    "from torch.utils.data import Dataset, DataLoader\n",
    "import seaborn as sns"
   ]
  },
  {
   "cell_type": "code",
   "execution_count": 320,
   "id": "1504f76d",
   "metadata": {},
   "outputs": [
    {
     "data": {
      "text/html": [
       "<div>\n",
       "<style scoped>\n",
       "    .dataframe tbody tr th:only-of-type {\n",
       "        vertical-align: middle;\n",
       "    }\n",
       "\n",
       "    .dataframe tbody tr th {\n",
       "        vertical-align: top;\n",
       "    }\n",
       "\n",
       "    .dataframe thead th {\n",
       "        text-align: right;\n",
       "    }\n",
       "</style>\n",
       "<table border=\"1\" class=\"dataframe\">\n",
       "  <thead>\n",
       "    <tr style=\"text-align: right;\">\n",
       "      <th></th>\n",
       "      <th>Unnamed: 0</th>\n",
       "      <th>mpg</th>\n",
       "      <th>cyl</th>\n",
       "      <th>disp</th>\n",
       "      <th>hp</th>\n",
       "      <th>drat</th>\n",
       "      <th>wt</th>\n",
       "      <th>qsec</th>\n",
       "      <th>vs</th>\n",
       "      <th>am</th>\n",
       "      <th>gear</th>\n",
       "      <th>carb</th>\n",
       "    </tr>\n",
       "  </thead>\n",
       "  <tbody>\n",
       "    <tr>\n",
       "      <th>0</th>\n",
       "      <td>Mazda RX4</td>\n",
       "      <td>21.0</td>\n",
       "      <td>6</td>\n",
       "      <td>160.0</td>\n",
       "      <td>110</td>\n",
       "      <td>3.90</td>\n",
       "      <td>2.620</td>\n",
       "      <td>16.46</td>\n",
       "      <td>0</td>\n",
       "      <td>1</td>\n",
       "      <td>4</td>\n",
       "      <td>4</td>\n",
       "    </tr>\n",
       "    <tr>\n",
       "      <th>1</th>\n",
       "      <td>Mazda RX4 Wag</td>\n",
       "      <td>21.0</td>\n",
       "      <td>6</td>\n",
       "      <td>160.0</td>\n",
       "      <td>110</td>\n",
       "      <td>3.90</td>\n",
       "      <td>2.875</td>\n",
       "      <td>17.02</td>\n",
       "      <td>0</td>\n",
       "      <td>1</td>\n",
       "      <td>4</td>\n",
       "      <td>4</td>\n",
       "    </tr>\n",
       "    <tr>\n",
       "      <th>2</th>\n",
       "      <td>Datsun 710</td>\n",
       "      <td>22.8</td>\n",
       "      <td>4</td>\n",
       "      <td>108.0</td>\n",
       "      <td>93</td>\n",
       "      <td>3.85</td>\n",
       "      <td>2.320</td>\n",
       "      <td>18.61</td>\n",
       "      <td>1</td>\n",
       "      <td>1</td>\n",
       "      <td>4</td>\n",
       "      <td>1</td>\n",
       "    </tr>\n",
       "    <tr>\n",
       "      <th>3</th>\n",
       "      <td>Hornet 4 Drive</td>\n",
       "      <td>21.4</td>\n",
       "      <td>6</td>\n",
       "      <td>258.0</td>\n",
       "      <td>110</td>\n",
       "      <td>3.08</td>\n",
       "      <td>3.215</td>\n",
       "      <td>19.44</td>\n",
       "      <td>1</td>\n",
       "      <td>0</td>\n",
       "      <td>3</td>\n",
       "      <td>1</td>\n",
       "    </tr>\n",
       "    <tr>\n",
       "      <th>4</th>\n",
       "      <td>Hornet Sportabout</td>\n",
       "      <td>18.7</td>\n",
       "      <td>8</td>\n",
       "      <td>360.0</td>\n",
       "      <td>175</td>\n",
       "      <td>3.15</td>\n",
       "      <td>3.440</td>\n",
       "      <td>17.02</td>\n",
       "      <td>0</td>\n",
       "      <td>0</td>\n",
       "      <td>3</td>\n",
       "      <td>2</td>\n",
       "    </tr>\n",
       "  </tbody>\n",
       "</table>\n",
       "</div>"
      ],
      "text/plain": [
       "          Unnamed: 0   mpg  cyl   disp   hp  drat     wt   qsec  vs  am  gear  \\\n",
       "0          Mazda RX4  21.0    6  160.0  110  3.90  2.620  16.46   0   1     4   \n",
       "1      Mazda RX4 Wag  21.0    6  160.0  110  3.90  2.875  17.02   0   1     4   \n",
       "2         Datsun 710  22.8    4  108.0   93  3.85  2.320  18.61   1   1     4   \n",
       "3     Hornet 4 Drive  21.4    6  258.0  110  3.08  3.215  19.44   1   0     3   \n",
       "4  Hornet Sportabout  18.7    8  360.0  175  3.15  3.440  17.02   0   0     3   \n",
       "\n",
       "   carb  \n",
       "0     4  \n",
       "1     4  \n",
       "2     1  \n",
       "3     1  \n",
       "4     2  "
      ]
     },
     "execution_count": 320,
     "metadata": {},
     "output_type": "execute_result"
    }
   ],
   "source": [
    "# load data\n",
    "cars_file = 'https://gist.githubusercontent.com/noamross/e5d3e859aa0c794be10b/raw/b999fb4425b54c63cab088c0ce2c0d6ce961a563/cars.csv'\n",
    "cars = pd.read_csv(cars_file)\n",
    "cars.head()"
   ]
  },
  {
   "cell_type": "code",
   "execution_count": 321,
   "id": "014c7370",
   "metadata": {},
   "outputs": [],
   "source": [
    "# convert data to tensors\n",
    "X_list = cars.wt.values\n",
    "X_np = np.array(X_list, dtype=np.float32).reshape(-1, 1)\n",
    "y_list = cars.mpg.values\n",
    "y_np = np.array(y_list, dtype=np.float32).reshape(-1, 1)\n",
    "X = torch.from_numpy(X_np)\n",
    "y_true = torch.from_numpy(y_np)"
   ]
  },
  {
   "cell_type": "markdown",
   "id": "af058ac2",
   "metadata": {},
   "source": [
    "### Dataset"
   ]
  },
  {
   "cell_type": "code",
   "execution_count": 322,
   "id": "04acca27",
   "metadata": {},
   "outputs": [],
   "source": [
    "class LinearRegressionDataset(Dataset):\n",
    "    def __init__(self, X, y):\n",
    "        self.X = X\n",
    "        self.y = y\n",
    "    \n",
    "    def __len__(self):\n",
    "        return len(self.X)\n",
    "    \n",
    "    def __getitem__(self, idx):\n",
    "        return self.X[idx], self.y[idx]"
   ]
  },
  {
   "cell_type": "markdown",
   "id": "9464646a",
   "metadata": {},
   "source": [
    "### DataLoader"
   ]
  },
  {
   "cell_type": "code",
   "execution_count": 323,
   "id": "064a3270",
   "metadata": {},
   "outputs": [],
   "source": [
    "train_loader = DataLoader(dataset = LinearRegressionDataset(X_np, y_np), batch_size=2)"
   ]
  },
  {
   "cell_type": "code",
   "execution_count": 324,
   "id": "6b99a2ad",
   "metadata": {},
   "outputs": [
    {
     "name": "stdout",
     "output_type": "stream",
     "text": [
      "0th batch\n",
      "[tensor([[2.6200],\n",
      "        [2.8750]]), tensor([[21.],\n",
      "        [21.]])]\n",
      "1th batch\n",
      "[tensor([[2.3200],\n",
      "        [3.2150]]), tensor([[22.8000],\n",
      "        [21.4000]])]\n",
      "2th batch\n",
      "[tensor([[3.4400],\n",
      "        [3.4600]]), tensor([[18.7000],\n",
      "        [18.1000]])]\n",
      "3th batch\n",
      "[tensor([[3.5700],\n",
      "        [3.1900]]), tensor([[14.3000],\n",
      "        [24.4000]])]\n",
      "4th batch\n",
      "[tensor([[3.1500],\n",
      "        [3.4400]]), tensor([[22.8000],\n",
      "        [19.2000]])]\n",
      "5th batch\n",
      "[tensor([[3.4400],\n",
      "        [4.0700]]), tensor([[17.8000],\n",
      "        [16.4000]])]\n",
      "6th batch\n",
      "[tensor([[3.7300],\n",
      "        [3.7800]]), tensor([[17.3000],\n",
      "        [15.2000]])]\n",
      "7th batch\n",
      "[tensor([[5.2500],\n",
      "        [5.4240]]), tensor([[10.4000],\n",
      "        [10.4000]])]\n",
      "8th batch\n",
      "[tensor([[5.3450],\n",
      "        [2.2000]]), tensor([[14.7000],\n",
      "        [32.4000]])]\n",
      "9th batch\n",
      "[tensor([[1.6150],\n",
      "        [1.8350]]), tensor([[30.4000],\n",
      "        [33.9000]])]\n",
      "10th batch\n",
      "[tensor([[2.4650],\n",
      "        [3.5200]]), tensor([[21.5000],\n",
      "        [15.5000]])]\n",
      "11th batch\n",
      "[tensor([[3.4350],\n",
      "        [3.8400]]), tensor([[15.2000],\n",
      "        [13.3000]])]\n",
      "12th batch\n",
      "[tensor([[3.8450],\n",
      "        [1.9350]]), tensor([[19.2000],\n",
      "        [27.3000]])]\n",
      "13th batch\n",
      "[tensor([[2.1400],\n",
      "        [1.5130]]), tensor([[26.0000],\n",
      "        [30.4000]])]\n",
      "14th batch\n",
      "[tensor([[3.1700],\n",
      "        [2.7700]]), tensor([[15.8000],\n",
      "        [19.7000]])]\n",
      "15th batch\n",
      "[tensor([[3.5700],\n",
      "        [2.7800]]), tensor([[15.0000],\n",
      "        [21.4000]])]\n"
     ]
    }
   ],
   "source": [
    "# check trainloader\n",
    "for i, data in enumerate(train_loader):\n",
    "    print(f\"{i}th batch\")\n",
    "    print(data)"
   ]
  },
  {
   "cell_type": "code",
   "execution_count": 325,
   "id": "ced968a2",
   "metadata": {},
   "outputs": [
    {
     "data": {
      "text/plain": [
       "torch.Size([2, 1])"
      ]
     },
     "execution_count": 325,
     "metadata": {},
     "output_type": "execute_result"
    }
   ],
   "source": [
    "data[0].shape # batch size, number of features"
   ]
  },
  {
   "cell_type": "markdown",
   "id": "e9b2b6a8",
   "metadata": {},
   "source": [
    "### Model"
   ]
  },
  {
   "cell_type": "code",
   "execution_count": 326,
   "id": "ac5b1366",
   "metadata": {},
   "outputs": [],
   "source": [
    "class LinearRegressionTorch(nn.Module):\n",
    "    def __init__(self, input_size, output_size):\n",
    "        super(LinearRegressionTorch, self).__init__()\n",
    "        self.linear = nn.Linear(input_size, output_size)\n",
    "    \n",
    "    def forward(self, x):\n",
    "        out = self.linear(x)\n",
    "        return out"
   ]
  },
  {
   "cell_type": "markdown",
   "id": "d6841ae3",
   "metadata": {},
   "source": [
    "### Trainning"
   ]
  },
  {
   "cell_type": "code",
   "execution_count": 327,
   "id": "6e889560",
   "metadata": {},
   "outputs": [],
   "source": [
    "input_dim = 1\n",
    "output_dim = 1\n",
    "model = LinearRegressionTorch(input_dim, output_dim)"
   ]
  },
  {
   "cell_type": "code",
   "execution_count": 328,
   "id": "b90f8c02",
   "metadata": {},
   "outputs": [],
   "source": [
    "loss_fun = nn.MSELoss()"
   ]
  },
  {
   "cell_type": "code",
   "execution_count": 329,
   "id": "6aec8582",
   "metadata": {},
   "outputs": [],
   "source": [
    "LR = 0.01\n",
    "optimizer = torch.optim.SGD(model.parameters(), lr=LR)"
   ]
  },
  {
   "cell_type": "code",
   "execution_count": 330,
   "id": "8589857f",
   "metadata": {},
   "outputs": [
    {
     "name": "stdout",
     "output_type": "stream",
     "text": [
      "Epoch: 0, Loss: 106.7362\n",
      "Epoch: 100, Loss: 10.1708\n",
      "Epoch: 200, Loss: 9.4535\n",
      "Epoch: 300, Loss: 9.4543\n",
      "Epoch: 400, Loss: 9.4549\n",
      "Epoch: 500, Loss: 9.4549\n",
      "Epoch: 600, Loss: 9.4549\n",
      "Epoch: 700, Loss: 9.4549\n",
      "Epoch: 800, Loss: 9.4549\n",
      "Epoch: 900, Loss: 9.4549\n",
      "Epoch: 1000, Loss: 9.4549\n"
     ]
    }
   ],
   "source": [
    "# Training loop cải tiến\n",
    "losses, slope, bias = [], [], []\n",
    "\n",
    "NUM_EPOCHS = 1000\n",
    "for epoch in range(NUM_EPOCHS+1):\n",
    "    model.train()  # Đặt model ở training mode\n",
    "    \n",
    "    for i, (X_batch, y_batch) in enumerate(train_loader):\n",
    "        # set gradient to zero\n",
    "        optimizer.zero_grad()\n",
    "\n",
    "        # forward pass\n",
    "        y_pred = model(X_batch)\n",
    "\n",
    "        # compute loss\n",
    "        loss = loss_fun(y_pred, y_batch)\n",
    "\n",
    "        # backward\n",
    "        loss.backward()\n",
    "\n",
    "        # update weights\n",
    "        optimizer.step()\n",
    "\n",
    "    # Lấy parameters sau mỗi epoch (không phải mỗi batch)\n",
    "    with torch.no_grad():\n",
    "        for name, param in model.named_parameters():\n",
    "            if name == 'linear.weight':\n",
    "                slope.append(param.detach().numpy()[0][0])\n",
    "            elif name == 'linear.bias':\n",
    "                bias.append(param.detach().numpy()[0])\n",
    "        \n",
    "        # Tính loss cho toàn bộ dataset\n",
    "        model.eval()\n",
    "        full_pred = model(X)\n",
    "        epoch_loss = loss_fun(full_pred, y_true)\n",
    "        losses.append(float(epoch_loss.detach()))\n",
    "\n",
    "    # print loss\n",
    "    if epoch % 100 == 0:\n",
    "        print('Epoch: {}, Loss: {:.4f}'.format(epoch, epoch_loss.detach()))"
   ]
  },
  {
   "cell_type": "code",
   "execution_count": 331,
   "id": "f959db0f",
   "metadata": {},
   "outputs": [
    {
     "data": {
      "text/plain": [
       "<Axes: >"
      ]
     },
     "execution_count": 331,
     "metadata": {},
     "output_type": "execute_result"
    },
    {
     "data": {
      "image/png": "[encoded data removed]",
      "text/plain": [
       "<Figure size 640x480 with 1 Axes>"
      ]
     },
     "metadata": {},
     "output_type": "display_data"
    }
   ],
   "source": [
    "sns.scatterplot(x=range(len(losses)), y=losses)"
   ]
  },
  {
   "cell_type": "code",
   "execution_count": 332,
   "id": "fdde42dd",
   "metadata": {},
   "outputs": [
    {
     "data": {
      "text/plain": [
       "<Axes: >"
      ]
     },
     "execution_count": 332,
     "metadata": {},
     "output_type": "execute_result"
    },
    {
     "data": {
      "image/png": "[encoded data removed]",
      "text/plain": [
       "<Figure size 640x480 with 1 Axes>"
      ]
     },
     "metadata": {},
     "output_type": "display_data"
    }
   ],
   "source": [
    "sns.scatterplot(x=range(len(bias)), y=bias)"
   ]
  },
  {
   "cell_type": "code",
   "execution_count": 333,
   "id": "a4dac5f7",
   "metadata": {},
   "outputs": [
    {
     "data": {
      "text/plain": [
       "<Axes: >"
      ]
     },
     "execution_count": 333,
     "metadata": {},
     "output_type": "execute_result"
    },
    {
     "data": {
      "image/png": "[encoded data removed]",
      "text/plain": [
       "<Figure size 640x480 with 1 Axes>"
      ]
     },
     "metadata": {},
     "output_type": "display_data"
    }
   ],
   "source": [
    "sns.scatterplot(x=range(len(slope)), y=slope)"
   ]
  },
  {
   "cell_type": "code",
   "execution_count": 334,
   "id": "d1314a77",
   "metadata": {},
   "outputs": [
    {
     "data": {
      "text/plain": [
       "<Axes: >"
      ]
     },
     "execution_count": 334,
     "metadata": {},
     "output_type": "execute_result"
    },
    {
     "data": {
      "image/png": "[encoded data removed]",
      "text/plain": [
       "<Figure size 640x480 with 1 Axes>"
      ]
     },
     "metadata": {},
     "output_type": "display_data"
    }
   ],
   "source": [
    "y_pred = model(X).data.numpy().reshape(-1)\n",
    "sns.scatterplot(x=X_list, y=y_list)\n",
    "sns.lineplot(x=X_list, y=y_pred, color='red')"
   ]
  },
  {
   "cell_type": "markdown",
   "id": "09c95748",
   "metadata": {},
   "source": [
    "### Model saving and loading"
   ]
  },
  {
   "cell_type": "code",
   "execution_count": 335,
   "id": "d86f2dd8",
   "metadata": {},
   "outputs": [
    {
     "data": {
      "text/plain": [
       "OrderedDict([('linear.weight', tensor([[-5.4371]])),\n",
       "             ('linear.bias', tensor([36.7174]))])"
      ]
     },
     "execution_count": 335,
     "metadata": {},
     "output_type": "execute_result"
    }
   ],
   "source": [
    "model.state_dict()"
   ]
  },
  {
   "cell_type": "code",
   "execution_count": 336,
   "id": "1cb9c43e",
   "metadata": {},
   "outputs": [],
   "source": [
    "torch.save(model.state_dict(), 'models/linear_model_state_dict.pth')"
   ]
  },
  {
   "cell_type": "code",
   "execution_count": 337,
   "id": "05451b73",
   "metadata": {},
   "outputs": [
    {
     "name": "stderr",
     "output_type": "stream",
     "text": [
      "/var/folders/s2/tr8rp49x6n55zdz1_59v5pj40000gn/T/ipykernel_86996/2333186099.py:3: FutureWarning: You are using `torch.load` with `weights_only=False` (the current default value), which uses the default pickle module implicitly. It is possible to construct malicious pickle data which will execute arbitrary code during unpickling (See https://github.com/pytorch/pytorch/blob/main/SECURITY.md#untrusted-models for more details). In a future release, the default value for `weights_only` will be flipped to `True`. This limits the functions that could be executed during unpickling. Arbitrary objects will no longer be allowed to be loaded via this mode unless they are explicitly allowlisted by the user via `torch.serialization.add_safe_globals`. We recommend you start setting `weights_only=True` for any use case where you don't have full control of the loaded file. Please open an issue on GitHub for any issues related to this experimental feature.\n",
      "  model.load_state_dict(torch.load('models/linear_model_state_dict.pth'))\n"
     ]
    },
    {
     "data": {
      "text/plain": [
       "<All keys matched successfully>"
      ]
     },
     "execution_count": 337,
     "metadata": {},
     "output_type": "execute_result"
    }
   ],
   "source": [
    "# load model\n",
    "model = LinearRegressionTorch(input_dim, output_dim)\n",
    "model.load_state_dict(torch.load('models/linear_model_state_dict.pth'))"
   ]
  },
  {
   "cell_type": "code",
   "execution_count": 338,
   "id": "69694eb5",
   "metadata": {},
   "outputs": [
    {
     "data": {
      "text/plain": [
       "LinearRegressionTorch(\n",
       "  (linear): Linear(in_features=1, out_features=1, bias=True)\n",
       ")"
      ]
     },
     "execution_count": 338,
     "metadata": {},
     "output_type": "execute_result"
    }
   ],
   "source": [
    "model.eval()"
   ]
  },
  {
   "cell_type": "code",
   "execution_count": 339,
   "id": "106356af",
   "metadata": {},
   "outputs": [
    {
     "data": {
      "text/plain": [
       "OrderedDict([('linear.weight', tensor([[-5.4371]])),\n",
       "             ('linear.bias', tensor([36.7174]))])"
      ]
     },
     "execution_count": 339,
     "metadata": {},
     "output_type": "execute_result"
    }
   ],
   "source": [
    "model.state_dict()"
   ]
  },
  {
   "cell_type": "markdown",
   "id": "f5d255c5",
   "metadata": {},
   "source": [
    "### Hyperparameter Tuning\n",
    "**Network topology**:\n",
    "- Number of nodes\n",
    "- Layer types\n",
    "- Activation funcitons\n",
    "\n",
    "**Network objects**:\n",
    "- Loss funciton\n",
    "- Optimizer\n",
    "\n",
    "**Model trainning**:\n",
    "- Learning rate\n",
    "- Batch size\n",
    "- Number of epochs\n",
    "\n"
   ]
  },
  {
   "cell_type": "code",
   "execution_count": 340,
   "id": "cad484dd",
   "metadata": {},
   "outputs": [
    {
     "name": "stdout",
     "output_type": "stream",
     "text": [
      "Requirement already satisfied: skorch in /opt/anaconda3/lib/python3.12/site-packages (1.1.0)\n",
      "Requirement already satisfied: numpy>=1.13.3 in /opt/anaconda3/lib/python3.12/site-packages (from skorch) (1.26.4)\n",
      "Requirement already satisfied: scikit-learn>=0.22.0 in /opt/anaconda3/lib/python3.12/site-packages (from skorch) (1.4.2)\n",
      "Requirement already satisfied: scipy>=1.1.0 in /opt/anaconda3/lib/python3.12/site-packages (from skorch) (1.14.0)\n",
      "Requirement already satisfied: tabulate>=0.7.7 in /opt/anaconda3/lib/python3.12/site-packages (from skorch) (0.9.0)\n",
      "Requirement already satisfied: tqdm>=4.14.0 in /opt/anaconda3/lib/python3.12/site-packages (from skorch) (4.66.4)\n",
      "Requirement already satisfied: joblib>=1.2.0 in /opt/anaconda3/lib/python3.12/site-packages (from scikit-learn>=0.22.0->skorch) (1.4.2)\n",
      "Requirement already satisfied: threadpoolctl>=2.0.0 in /opt/anaconda3/lib/python3.12/site-packages (from scikit-learn>=0.22.0->skorch) (2.2.0)\n",
      "\n",
      "\u001b[1m[\u001b[0m\u001b[34;49mnotice\u001b[0m\u001b[1;39;49m]\u001b[0m\u001b[39;49m A new release of pip is available: \u001b[0m\u001b[31;49m23.1.2\u001b[0m\u001b[39;49m -> \u001b[0m\u001b[32;49m25.1.1\u001b[0m\n",
      "\u001b[1m[\u001b[0m\u001b[34;49mnotice\u001b[0m\u001b[1;39;49m]\u001b[0m\u001b[39;49m To update, run: \u001b[0m\u001b[32;49mpip install --upgrade pip\u001b[0m\n"
     ]
    }
   ],
   "source": [
    "!pip install skorch"
   ]
  },
  {
   "cell_type": "code",
   "execution_count": 341,
   "id": "2391c1ed",
   "metadata": {},
   "outputs": [],
   "source": [
    "from skorch import NeuralNetRegressor\n",
    "from sklearn.model_selection import GridSearchCV"
   ]
  },
  {
   "cell_type": "code",
   "execution_count": 342,
   "id": "d97bd400",
   "metadata": {},
   "outputs": [],
   "source": [
    "learning_rate = 0.02\n",
    "optimizer = torch.optim.SGD(model.parameters(), lr=learning_rate)"
   ]
  },
  {
   "cell_type": "code",
   "execution_count": 347,
   "id": "df9b47b6",
   "metadata": {},
   "outputs": [],
   "source": [
    "net = NeuralNetRegressor(\n",
    "    LinearRegressionTorch(input_dim, output_dim),\n",
    "    max_epochs=100,\n",
    "    lr=learning_rate,\n",
    "    iterator_train__shuffle=True\n",
    ")"
   ]
  },
  {
   "cell_type": "code",
   "execution_count": 348,
   "id": "4607e1df",
   "metadata": {},
   "outputs": [
    {
     "name": "stdout",
     "output_type": "stream",
     "text": [
      "Fitting 3 folds for each of 9 candidates, totalling 27 fits\n",
      "[CV] END .............................lr=0.02, max_epochs=10; total time=   0.0s\n",
      "[CV] END .............................lr=0.02, max_epochs=10; total time=   0.0s\n",
      "[CV] END .............................lr=0.02, max_epochs=10; total time=   0.0s\n",
      "[CV] END ............................lr=0.02, max_epochs=200; total time=   0.1s\n",
      "[CV] END ............................lr=0.02, max_epochs=200; total time=   0.1s\n",
      "[CV] END ............................lr=0.02, max_epochs=200; total time=   0.1s\n",
      "[CV] END ............................lr=0.02, max_epochs=500; total time=   0.3s\n",
      "[CV] END ............................lr=0.02, max_epochs=500; total time=   0.2s\n",
      "[CV] END ............................lr=0.02, max_epochs=500; total time=   0.2s\n",
      "[CV] END .............................lr=0.05, max_epochs=10; total time=   0.0s\n",
      "[CV] END .............................lr=0.05, max_epochs=10; total time=   0.0s\n",
      "[CV] END .............................lr=0.05, max_epochs=10; total time=   0.0s\n",
      "[CV] END ............................lr=0.05, max_epochs=200; total time=   0.1s\n",
      "[CV] END ............................lr=0.05, max_epochs=200; total time=   0.1s\n",
      "[CV] END ............................lr=0.05, max_epochs=200; total time=   0.1s\n",
      "[CV] END ............................lr=0.05, max_epochs=500; total time=   0.3s\n",
      "[CV] END ............................lr=0.05, max_epochs=500; total time=   0.3s\n",
      "[CV] END ............................lr=0.05, max_epochs=500; total time=   0.3s\n",
      "[CV] END .............................lr=0.08, max_epochs=10; total time=   0.0s\n",
      "[CV] END .............................lr=0.08, max_epochs=10; total time=   0.0s\n",
      "[CV] END .............................lr=0.08, max_epochs=10; total time=   0.0s\n",
      "[CV] END ............................lr=0.08, max_epochs=200; total time=   0.1s\n",
      "[CV] END ............................lr=0.08, max_epochs=200; total time=   0.1s\n",
      "[CV] END ............................lr=0.08, max_epochs=200; total time=   0.1s\n",
      "[CV] END ............................lr=0.08, max_epochs=500; total time=   0.3s\n",
      "[CV] END ............................lr=0.08, max_epochs=500; total time=   0.4s\n",
      "[CV] END ............................lr=0.08, max_epochs=500; total time=   0.3s\n"
     ]
    },
    {
     "name": "stderr",
     "output_type": "stream",
     "text": [
      "/opt/anaconda3/lib/python3.12/site-packages/sklearn/metrics/_regression.py:1196: RuntimeWarning: overflow encountered in square\n",
      "  numerator = (weight * (y_true - y_pred) ** 2).sum(axis=0, dtype=np.float64)\n",
      "/opt/anaconda3/lib/python3.12/site-packages/sklearn/model_selection/_search.py:1051: UserWarning: One or more of the test scores are non-finite: [-2.63692500e+00 -4.27970346e-01  3.70109128e-01 -2.33962200e+00\n",
      "  3.70868064e-01  5.87620899e-01 -5.47785469e+01 -3.68337324e+19\n",
      "            -inf]\n",
      "  warnings.warn(\n",
      "/opt/anaconda3/lib/python3.12/site-packages/sklearn/model_selection/_search.py:1062: RuntimeWarning: invalid value encountered in subtract\n",
      "  (array - array_means[:, np.newaxis]) ** 2, axis=1, weights=weights\n"
     ]
    },
    {
     "name": "stdout",
     "output_type": "stream",
     "text": [
      "Best score: 0.5876208993942722, best params: {'lr': 0.05, 'max_epochs': 500}\n"
     ]
    }
   ],
   "source": [
    "net.set_params(train_split=False, verbose=0)\n",
    "params = {\n",
    "    'lr': [0.02, 0.05, 0.08],\n",
    "    'max_epochs': [10, 200, 500],\n",
    "}\n",
    "\n",
    "gs = GridSearchCV(net, params, scoring='r2', cv=3, verbose=2)\n",
    "gs.fit(X, y_true)\n",
    "\n",
    "\n",
    "print(f\"Best score: {gs.best_score_}, best params: {gs.best_params_}\")\n"
   ]
  },
  {
   "cell_type": "code",
   "execution_count": null,
   "id": "db4d9535",
   "metadata": {},
   "outputs": [],
   "source": []
  },
  {
   "cell_type": "code",
   "execution_count": null,
   "id": "16cbb565",
   "metadata": {},
   "outputs": [],
   "source": []
  }
 ],
 "metadata": {
  "kernelspec": {
   "display_name": "base",
   "language": "python",
   "name": "python3"
  },
  "language_info": {
   "codemirror_mode": {
    "name": "ipython",
    "version": 3
   },
   "file_extension": ".py",
   "mimetype": "text/x-python",
   "name": "python",
   "nbconvert_exporter": "python",
   "pygments_lexer": "ipython3",
   "version": "3.12.4"
  }
 },
 "nbformat": 4,
 "nbformat_minor": 5
}
