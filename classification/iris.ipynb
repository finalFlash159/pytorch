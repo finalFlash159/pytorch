{
 "cells": [
  {
   "cell_type": "code",
   "execution_count": 47,
   "id": "99dd1434",
   "metadata": {},
   "outputs": [],
   "source": [
    "import torch \n",
    "import torch.nn as nn\n",
    "from torch.utils.data import Dataset, DataLoader\n",
    "from sklearn.model_selection import train_test_split\n",
    "from sklearn.metrics import accuracy_score\n",
    "from sklearn.datasets import load_iris\n",
    "import seaborn as sns"
   ]
  },
  {
   "cell_type": "code",
   "execution_count": 48,
   "id": "ddd4f502",
   "metadata": {},
   "outputs": [],
   "source": [
    "# Load data\n",
    "iris = load_iris()\n",
    "X = iris.data\n",
    "y = iris.target"
   ]
  },
  {
   "cell_type": "code",
   "execution_count": 49,
   "id": "2d8320b6",
   "metadata": {},
   "outputs": [],
   "source": [
    "# train test split\n",
    "X_train, X_test, y_train, y_test = train_test_split(X, y, test_size=0.2)"
   ]
  },
  {
   "cell_type": "code",
   "execution_count": 50,
   "id": "6629121e",
   "metadata": {},
   "outputs": [],
   "source": [
    "# Convert to float32\n",
    "X_train = X_train.astype('float32')\n",
    "X_test = X_test.astype('float32')"
   ]
  },
  {
   "cell_type": "markdown",
   "id": "13e836da",
   "metadata": {},
   "source": [
    "### Dataset"
   ]
  },
  {
   "cell_type": "code",
   "execution_count": 51,
   "id": "0651dbc6",
   "metadata": {},
   "outputs": [],
   "source": [
    "class IrisDataset(Dataset):\n",
    "    def __init__(self, X_train, y_train) -> None:\n",
    "        super().__init__()\n",
    "        self.X = torch.from_numpy(X_train)\n",
    "        self.y = torch.from_numpy(y_train)\n",
    "        self.y = self.y.type(torch.LongTensor)\n",
    "        self.len = self.X.shape[0]\n",
    "\n",
    "    def __len__(self):\n",
    "        return len(self.X)\n",
    "    \n",
    "    def __getitem__(self, idx):\n",
    "        return self.X[idx], self.y[idx]"
   ]
  },
  {
   "cell_type": "markdown",
   "id": "1b288941",
   "metadata": {},
   "source": [
    "### DataLoader"
   ]
  },
  {
   "cell_type": "code",
   "execution_count": 52,
   "id": "30e8e842",
   "metadata": {},
   "outputs": [],
   "source": [
    "iris_data = IrisDataset(X_train, y_train)\n",
    "train_loader = DataLoader(iris_data, batch_size=32, shuffle=True)"
   ]
  },
  {
   "cell_type": "code",
   "execution_count": 53,
   "id": "8aa018ac",
   "metadata": {},
   "outputs": [
    {
     "name": "stdout",
     "output_type": "stream",
     "text": [
      "X shape: torch.Size([120, 4]), y shape: torch.Size([120])\n"
     ]
    }
   ],
   "source": [
    "print(f\"X shape: {iris_data.X.shape}, y shape: {iris_data.y.shape}\")"
   ]
  },
  {
   "cell_type": "markdown",
   "id": "c56bf3af",
   "metadata": {},
   "source": [
    "### Network"
   ]
  },
  {
   "cell_type": "code",
   "execution_count": 54,
   "id": "545346b3",
   "metadata": {},
   "outputs": [],
   "source": [
    "class MultiClassNet(nn.Module):\n",
    "    def __init__(self, NUM_FEATURES, NUM_CLASSES, HIDDEN_FEATURES):\n",
    "        super().__init__()\n",
    "        self.linear1 = nn.Linear(NUM_FEATURES, HIDDEN_FEATURES)\n",
    "        self.linear2 = nn.Linear(HIDDEN_FEATURES, NUM_CLASSES)\n",
    "        self.log_softmax = nn.LogSoftmax(dim=1)\n",
    "\n",
    "    def forward(self, x):\n",
    "        x = self.linear1(x)\n",
    "        x = torch.sigmoid(x)\n",
    "        x = self.linear2(x)\n",
    "        x = self.log_softmax(x)\n",
    "        return x"
   ]
  },
  {
   "cell_type": "markdown",
   "id": "ce0c7fef",
   "metadata": {},
   "source": [
    "### Hyperparameters"
   ]
  },
  {
   "cell_type": "code",
   "execution_count": 55,
   "id": "ab8b6c43",
   "metadata": {},
   "outputs": [],
   "source": [
    "NUM_FEATURES = iris_data.X.shape[1]\n",
    "HIDDEN = 6\n",
    "NUM_CLASSES = len(iris_data.y.unique())\n"
   ]
  },
  {
   "cell_type": "markdown",
   "id": "c3315ef6",
   "metadata": {},
   "source": [
    "### Create model instance"
   ]
  },
  {
   "cell_type": "code",
   "execution_count": 56,
   "id": "43fe1229",
   "metadata": {},
   "outputs": [],
   "source": [
    "model = MultiClassNet(NUM_FEATURES, NUM_CLASSES, HIDDEN)"
   ]
  },
  {
   "cell_type": "code",
   "execution_count": 57,
   "id": "e632f4cd",
   "metadata": {},
   "outputs": [],
   "source": [
    "# Define loss function\n",
    "criterion = nn.CrossEntropyLoss()"
   ]
  },
  {
   "cell_type": "code",
   "execution_count": 58,
   "id": "9024c297",
   "metadata": {},
   "outputs": [],
   "source": [
    "# Optimizer\n",
    "learning_rate = 0.01\n",
    "optimizer = torch.optim.SGD(model.parameters(), lr=learning_rate)"
   ]
  },
  {
   "cell_type": "markdown",
   "id": "a7315d71",
   "metadata": {},
   "source": [
    "### Trainning loop"
   ]
  },
  {
   "cell_type": "code",
   "execution_count": 59,
   "id": "c46aecb1",
   "metadata": {},
   "outputs": [
    {
     "name": "stdout",
     "output_type": "stream",
     "text": [
      "Epoch 0, Average Loss: 1.0775\n",
      "Epoch 10, Average Loss: 1.0423\n",
      "Epoch 20, Average Loss: 1.0201\n",
      "Epoch 30, Average Loss: 0.9988\n",
      "Epoch 40, Average Loss: 0.9765\n",
      "Epoch 50, Average Loss: 0.9554\n",
      "Epoch 60, Average Loss: 0.9341\n",
      "Epoch 70, Average Loss: 0.9119\n",
      "Epoch 80, Average Loss: 0.8938\n",
      "Epoch 90, Average Loss: 0.8696\n",
      "Epoch 100, Average Loss: 0.8503\n",
      "Epoch 110, Average Loss: 0.8338\n",
      "Epoch 120, Average Loss: 0.8062\n",
      "Epoch 130, Average Loss: 0.7917\n",
      "Epoch 140, Average Loss: 0.7732\n",
      "Epoch 150, Average Loss: 0.7527\n",
      "Epoch 160, Average Loss: 0.7386\n",
      "Epoch 170, Average Loss: 0.7177\n",
      "Epoch 180, Average Loss: 0.7000\n",
      "Epoch 190, Average Loss: 0.6873\n",
      "Epoch 200, Average Loss: 0.6717\n",
      "Epoch 210, Average Loss: 0.6599\n",
      "Epoch 220, Average Loss: 0.6529\n",
      "Epoch 230, Average Loss: 0.6418\n",
      "Epoch 240, Average Loss: 0.6296\n",
      "Epoch 250, Average Loss: 0.6208\n",
      "Epoch 260, Average Loss: 0.6044\n",
      "Epoch 270, Average Loss: 0.5997\n",
      "Epoch 280, Average Loss: 0.5881\n",
      "Epoch 290, Average Loss: 0.5868\n",
      "Epoch 300, Average Loss: 0.5748\n",
      "Epoch 310, Average Loss: 0.5668\n",
      "Epoch 320, Average Loss: 0.5615\n",
      "Epoch 330, Average Loss: 0.5578\n",
      "Epoch 340, Average Loss: 0.5485\n",
      "Epoch 350, Average Loss: 0.5465\n",
      "Epoch 360, Average Loss: 0.5395\n",
      "Epoch 370, Average Loss: 0.5335\n",
      "Epoch 380, Average Loss: 0.5236\n",
      "Epoch 390, Average Loss: 0.5299\n",
      "Epoch 400, Average Loss: 0.5195\n",
      "Epoch 410, Average Loss: 0.5088\n",
      "Epoch 420, Average Loss: 0.5028\n",
      "Epoch 430, Average Loss: 0.5092\n",
      "Epoch 440, Average Loss: 0.5016\n",
      "Epoch 450, Average Loss: 0.4983\n",
      "Epoch 460, Average Loss: 0.4909\n",
      "Epoch 470, Average Loss: 0.4937\n",
      "Epoch 480, Average Loss: 0.4845\n",
      "Epoch 490, Average Loss: 0.4825\n",
      "Epoch 500, Average Loss: 0.4777\n",
      "Epoch 510, Average Loss: 0.4705\n",
      "Epoch 520, Average Loss: 0.4794\n",
      "Epoch 530, Average Loss: 0.4687\n",
      "Epoch 540, Average Loss: 0.4661\n",
      "Epoch 550, Average Loss: 0.4685\n",
      "Epoch 560, Average Loss: 0.4617\n",
      "Epoch 570, Average Loss: 0.4576\n",
      "Epoch 580, Average Loss: 0.4566\n",
      "Epoch 590, Average Loss: 0.4485\n",
      "Epoch 600, Average Loss: 0.4484\n",
      "Epoch 610, Average Loss: 0.4476\n",
      "Epoch 620, Average Loss: 0.4424\n",
      "Epoch 630, Average Loss: 0.4360\n",
      "Epoch 640, Average Loss: 0.4419\n",
      "Epoch 650, Average Loss: 0.4339\n",
      "Epoch 660, Average Loss: 0.4297\n",
      "Epoch 670, Average Loss: 0.4314\n",
      "Epoch 680, Average Loss: 0.4291\n",
      "Epoch 690, Average Loss: 0.4221\n",
      "Epoch 700, Average Loss: 0.4158\n",
      "Epoch 710, Average Loss: 0.4147\n",
      "Epoch 720, Average Loss: 0.4137\n",
      "Epoch 730, Average Loss: 0.4104\n",
      "Epoch 740, Average Loss: 0.4110\n",
      "Epoch 750, Average Loss: 0.4109\n",
      "Epoch 760, Average Loss: 0.4095\n",
      "Epoch 770, Average Loss: 0.4052\n",
      "Epoch 780, Average Loss: 0.3973\n",
      "Epoch 790, Average Loss: 0.3961\n",
      "Epoch 800, Average Loss: 0.3905\n",
      "Epoch 810, Average Loss: 0.3929\n",
      "Epoch 820, Average Loss: 0.3886\n",
      "Epoch 830, Average Loss: 0.3863\n",
      "Epoch 840, Average Loss: 0.3826\n",
      "Epoch 850, Average Loss: 0.3802\n",
      "Epoch 860, Average Loss: 0.3786\n",
      "Epoch 870, Average Loss: 0.3804\n",
      "Epoch 880, Average Loss: 0.3775\n",
      "Epoch 890, Average Loss: 0.3727\n",
      "Epoch 900, Average Loss: 0.3684\n",
      "Epoch 910, Average Loss: 0.3668\n",
      "Epoch 920, Average Loss: 0.3622\n",
      "Epoch 930, Average Loss: 0.3647\n",
      "Epoch 940, Average Loss: 0.3609\n",
      "Epoch 950, Average Loss: 0.3568\n",
      "Epoch 960, Average Loss: 0.3529\n",
      "Epoch 970, Average Loss: 0.3556\n",
      "Epoch 980, Average Loss: 0.3528\n",
      "Epoch 990, Average Loss: 0.3466\n",
      "Epoch 1000, Average Loss: 0.3451\n"
     ]
    }
   ],
   "source": [
    "NUM_EPOCHS = 1001\n",
    "losses = []\n",
    "for epoch in range(NUM_EPOCHS):\n",
    "    model.train()\n",
    "    running_loss = 0.0\n",
    "    num_batches = 0\n",
    "\n",
    "    for i, (X_batch, y_batch) in enumerate(train_loader):\n",
    "        # set gradient to zero\n",
    "        optimizer.zero_grad()\n",
    "\n",
    "        # forward pass\n",
    "        y_pred = model(X_batch)\n",
    "\n",
    "        # compute loss\n",
    "        loss = criterion(y_pred, y_batch)\n",
    "\n",
    "        # backward\n",
    "        loss.backward()\n",
    "\n",
    "        # update weights\n",
    "        optimizer.step()\n",
    "\n",
    "    \n",
    "        running_loss += loss.item()\n",
    "        num_batches += 1\n",
    "    \n",
    "    # Loss trung bình của epoch\n",
    "    epoch_loss = running_loss / num_batches\n",
    "    losses.append(epoch_loss)\n",
    "    \n",
    "    if epoch % 10 == 0:\n",
    "        print(f'Epoch {epoch}, Average Loss: {epoch_loss:.4f}')"
   ]
  },
  {
   "cell_type": "code",
   "execution_count": 60,
   "id": "24af08e6",
   "metadata": {},
   "outputs": [
    {
     "data": {
      "text/plain": [
       "<Axes: >"
      ]
     },
     "execution_count": 60,
     "metadata": {},
     "output_type": "execute_result"
    },
    {
     "data": {
      "image/png": "[encoded data removed]",
      "text/plain": [
       "<Figure size 640x480 with 1 Axes>"
      ]
     },
     "metadata": {},
     "output_type": "display_data"
    }
   ],
   "source": [
    "sns.lineplot(x=range(NUM_EPOCHS), y=losses)"
   ]
  },
  {
   "cell_type": "code",
   "execution_count": 63,
   "id": "358034cc",
   "metadata": {},
   "outputs": [
    {
     "data": {
      "text/plain": [
       "1001"
      ]
     },
     "execution_count": 63,
     "metadata": {},
     "output_type": "execute_result"
    }
   ],
   "source": [
    "len(losses)"
   ]
  },
  {
   "cell_type": "markdown",
   "id": "26b8b879",
   "metadata": {},
   "source": [
    "### Model evaluation"
   ]
  },
  {
   "cell_type": "code",
   "execution_count": 64,
   "id": "a01d2f0c",
   "metadata": {},
   "outputs": [],
   "source": [
    "X_test_torch = torch.from_numpy(X_test)\n",
    "with torch.no_grad():\n",
    "    y_test_log = model(X_test_torch)\n",
    "    y_test_pred = torch.max(y_test_log.data, 1)"
   ]
  },
  {
   "cell_type": "code",
   "execution_count": 65,
   "id": "3b4d9e40",
   "metadata": {},
   "outputs": [
    {
     "data": {
      "text/plain": [
       "0.9333333333333333"
      ]
     },
     "execution_count": 65,
     "metadata": {},
     "output_type": "execute_result"
    }
   ],
   "source": [
    "accuracy_score(y_test, y_test_pred.indices)"
   ]
  },
  {
   "cell_type": "code",
   "execution_count": 66,
   "id": "ead08aef",
   "metadata": {},
   "outputs": [
    {
     "data": {
      "text/plain": [
       "Counter({1: 11, 2: 10, 0: 9})"
      ]
     },
     "execution_count": 66,
     "metadata": {},
     "output_type": "execute_result"
    }
   ],
   "source": [
    "from collections import Counter\n",
    "Counter(y_test)"
   ]
  }
 ],
 "metadata": {
  "kernelspec": {
   "display_name": "base",
   "language": "python",
   "name": "python3"
  },
  "language_info": {
   "codemirror_mode": {
    "name": "ipython",
    "version": 3
   },
   "file_extension": ".py",
   "mimetype": "text/x-python",
   "name": "python",
   "nbconvert_exporter": "python",
   "pygments_lexer": "ipython3",
   "version": "3.12.4"
  }
 },
 "nbformat": 4,
 "nbformat_minor": 5
}
