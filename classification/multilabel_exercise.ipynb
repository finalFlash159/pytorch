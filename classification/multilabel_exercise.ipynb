{
 "cells": [
  {
   "cell_type": "code",
   "execution_count": 16,
   "id": "9f2145f8",
   "metadata": {},
   "outputs": [],
   "source": [
    "from sklearn.datasets import make_multilabel_classification\n",
    "from sklearn.model_selection import train_test_split\n",
    "from sklearn.metrics import accuracy_score\n",
    "import torch\n",
    "import torch.nn as nn\n",
    "from torch.utils.data import Dataset, DataLoader\n",
    "import seaborn as sns\n",
    "import numpy as np\n",
    "from collections import Counter"
   ]
  },
  {
   "cell_type": "code",
   "execution_count": 17,
   "metadata": {},
   "outputs": [],
   "source": [
    "X, y = make_multilabel_classification(n_samples=10000, n_features=10, n_classes=3, n_labels=2)"
   ]
  },
  {
   "cell_type": "code",
   "execution_count": 18,
   "id": "c6cdcb4c",
   "metadata": {},
   "outputs": [],
   "source": [
    "# convert to tensor\n",
    "X_torch = torch.FloatTensor(X)\n",
    "y_torch = torch.FloatTensor(y)"
   ]
  },
  {
   "cell_type": "code",
   "execution_count": 19,
   "id": "9dbe9175",
   "metadata": {},
   "outputs": [],
   "source": [
    "# Train test split\n",
    "X_train, X_test, y_train, y_test = train_test_split(X_torch, y_torch, test_size=0.2)"
   ]
  },
  {
   "cell_type": "markdown",
   "id": "1f50a1f4",
   "metadata": {},
   "source": [
    "### Dataset"
   ]
  },
  {
   "cell_type": "code",
   "execution_count": 20,
   "id": "353a8f77",
   "metadata": {},
   "outputs": [],
   "source": [
    "class MultilabelDataset(Dataset):\n",
    "    def __init__(self, X, y):\n",
    "        self.X = X\n",
    "        self.y = y\n",
    "    \n",
    "    def __len__(self):\n",
    "        return len(self.X)\n",
    "    \n",
    "\n",
    "    def __getitem__(self, idx):\n",
    "        return self.X[idx], self.y[idx]"
   ]
  },
  {
   "cell_type": "code",
   "execution_count": 21,
   "id": "7b5d4d10",
   "metadata": {},
   "outputs": [],
   "source": [
    "train_data = MultilabelDataset(X_train, y_train)\n",
    "test_data = MultilabelDataset(X_test, y_test)"
   ]
  },
  {
   "cell_type": "markdown",
   "id": "e909042f",
   "metadata": {},
   "source": [
    "### DataLoader"
   ]
  },
  {
   "cell_type": "code",
   "execution_count": 22,
   "id": "c65777fa",
   "metadata": {},
   "outputs": [],
   "source": [
    "train_loader = DataLoader(train_data, batch_size=32, shuffle=True)\n",
    "test_loader = DataLoader(test_data, batch_size=32, shuffle=True)"
   ]
  },
  {
   "cell_type": "markdown",
   "id": "3c907c7c",
   "metadata": {},
   "source": [
    "### Model"
   ]
  },
  {
   "cell_type": "code",
   "execution_count": 23,
   "id": "07bee7d9",
   "metadata": {},
   "outputs": [],
   "source": [
    "class MultilabelNet(nn.Module):\n",
    "    def __init__(self, num_features, num_classes, hidden):\n",
    "        super().__init__()\n",
    "        self.fc1 = nn.Linear(num_features, hidden)\n",
    "        self.fc2 = nn.Linear(hidden, num_classes)\n",
    "        self.relu = nn.ReLU()\n",
    "    \n",
    "    def forward(self, x):\n",
    "        x = self.fc1(x)\n",
    "        x = self.relu(x)\n",
    "        x = self.fc2(x)\n",
    "\n",
    "        return x "
   ]
  },
  {
   "cell_type": "code",
   "execution_count": 24,
   "id": "3e8942b3",
   "metadata": {},
   "outputs": [],
   "source": [
    "num_features = train_data.X.shape[1]\n",
    "hidden = 24\n",
    "num_classes = train_data.y.shape[1]"
   ]
  },
  {
   "cell_type": "code",
   "execution_count": 25,
   "id": "b7f5f151",
   "metadata": {},
   "outputs": [],
   "source": [
    "model = MultilabelNet(num_features, num_classes, hidden)"
   ]
  },
  {
   "cell_type": "code",
   "execution_count": 26,
   "id": "fd519aa6",
   "metadata": {},
   "outputs": [],
   "source": [
    "# Setup loss function and optimizer\n",
    "criterion = nn.BCEWithLogitsLoss() # Tự động áp dụng sigmoid\n",
    "\n",
    "# Setup optimizer\n",
    "learning_rate = 0.01\n",
    "optimizer = torch.optim.Adam(model.parameters(), lr=learning_rate)"
   ]
  },
  {
   "cell_type": "markdown",
   "id": "d85f1289",
   "metadata": {},
   "source": [
    "### Trainning"
   ]
  },
  {
   "cell_type": "code",
   "execution_count": 27,
   "id": "04e279d4",
   "metadata": {},
   "outputs": [
    {
     "name": "stdout",
     "output_type": "stream",
     "text": [
      "Epoch 0, Average Loss: 0.3074058051\n",
      "Epoch 10, Average Loss: 0.2092297895\n",
      "Epoch 20, Average Loss: 0.2065670801\n",
      "Epoch 30, Average Loss: 0.2057382312\n",
      "Epoch 40, Average Loss: 0.2077238427\n",
      "Epoch 50, Average Loss: 0.2060286120\n",
      "Epoch 60, Average Loss: 0.2049117711\n",
      "Epoch 70, Average Loss: 0.2039223326\n",
      "Epoch 80, Average Loss: 0.2067437657\n",
      "Epoch 90, Average Loss: 0.2042003299\n"
     ]
    }
   ],
   "source": [
    "num_epochs = 100\n",
    "losses = []\n",
    "\n",
    "for epoch in range(num_epochs):\n",
    "    model.train()\n",
    "    running_loss = 0.0\n",
    "    num_batches = 0\n",
    "    for idx, (X_batch, y_batch) in enumerate(train_loader):\n",
    "        # set optimization\n",
    "        optimizer.zero_grad()\n",
    "\n",
    "        # forward pass\n",
    "        y_pred = model(X_batch)\n",
    "\n",
    "        # compute loss\n",
    "        loss = criterion(y_pred, y_batch)\n",
    "\n",
    "        # backward\n",
    "        loss.backward()\n",
    "\n",
    "        # update weights\n",
    "        optimizer.step()\n",
    "\n",
    "        running_loss += loss.item()\n",
    "        num_batches += 1\n",
    "    \n",
    "    # Loss trung bình của epoch\n",
    "    epoch_loss = running_loss / num_batches\n",
    "    losses.append(epoch_loss)\n",
    "    \n",
    "    if epoch % 10 == 0:\n",
    "        print(f'Epoch {epoch}, Average Loss: {epoch_loss:.10f}')\n"
   ]
  },
  {
   "cell_type": "markdown",
   "id": "6954a41b",
   "metadata": {},
   "source": [
    "### Model evaluation"
   ]
  },
  {
   "cell_type": "code",
   "execution_count": 28,
   "id": "1cd1a60a",
   "metadata": {},
   "outputs": [
    {
     "name": "stdout",
     "output_type": "stream",
     "text": [
      "Subset Accuracy: 0.7820\n"
     ]
    }
   ],
   "source": [
    "# Prediction \n",
    "model.eval()\n",
    "with torch.no_grad():\n",
    "    y_test_logits = model(X_test)\n",
    "    y_test_probs = torch.sigmoid(y_test_logits)  # Apply sigmoid manually\n",
    "    y_test_pred = (y_test_probs > 0.5).float()   # Threshold at 0.5\n",
    "\n",
    "# Evaluation \n",
    "accuracy = accuracy_score(y_test.numpy(), y_test_pred.numpy())\n",
    "print(f\"Subset Accuracy: {accuracy:.4f}\")"
   ]
  },
  {
   "cell_type": "code",
   "execution_count": 29,
   "id": "397b61dd",
   "metadata": {},
   "outputs": [
    {
     "name": "stdout",
     "output_type": "stream",
     "text": [
      "=== Multi-label Evaluation ===\n",
      "Subset Accuracy: 0.7820\n",
      "Hamming Loss: 0.0840\n",
      "F1 Micro: 0.9206\n",
      "F1 Macro: 0.9160\n",
      "Jaccard Score: 0.8528\n"
     ]
    }
   ],
   "source": [
    "from sklearn.metrics import hamming_loss, f1_score, jaccard_score\n",
    "\n",
    "# Convert to numpy for sklearn\n",
    "y_test_np = y_test.numpy()\n",
    "y_pred_np = y_test_pred.numpy()\n",
    "\n",
    "# Multi-label metrics\n",
    "print(\"=== Multi-label Evaluation ===\")\n",
    "print(f\"Subset Accuracy: {accuracy_score(y_test_np, y_pred_np):.4f}\")\n",
    "print(f\"Hamming Loss: {hamming_loss(y_test_np, y_pred_np):.4f}\")\n",
    "print(f\"F1 Micro: {f1_score(y_test_np, y_pred_np, average='micro'):.4f}\")\n",
    "print(f\"F1 Macro: {f1_score(y_test_np, y_pred_np, average='macro'):.4f}\")\n",
    "print(f\"Jaccard Score: {jaccard_score(y_test_np, y_pred_np, average='micro'):.4f}\")"
   ]
  }
 ],
 "metadata": {
  "kernelspec": {
   "display_name": "base",
   "language": "python",
   "name": "python3"
  },
  "language_info": {
   "codemirror_mode": {
    "name": "ipython",
    "version": 3
   },
   "file_extension": ".py",
   "mimetype": "text/x-python",
   "name": "python",
   "nbconvert_exporter": "python",
   "pygments_lexer": "ipython3",
   "version": "3.12.4"
  }
 },
 "nbformat": 4,
 "nbformat_minor": 5
}
